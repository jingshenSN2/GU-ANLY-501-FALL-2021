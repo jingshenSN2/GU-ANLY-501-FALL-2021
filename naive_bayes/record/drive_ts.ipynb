{
 "cells": [
  {
   "cell_type": "markdown",
   "source": [
    "Read drive table from amazon.db"
   ],
   "metadata": {
    "collapsed": false,
    "pycharm": {
     "name": "#%% md\n"
    }
   }
  },
  {
   "cell_type": "code",
   "execution_count": 12,
   "metadata": {
    "collapsed": true
   },
   "outputs": [
    {
     "data": {
      "text/plain": "         asin catagory manufacturer  brand model_name  \\\n0  B01K8A29BE    drive    ADATA USA  ADATA      su800   \n1  B01K8A2A0E    drive    ADATA USA  ADATA      su800   \n2  B01K8A29E6    drive    ADATA USA  ADATA      su800   \n3  B07GBRG2G8    drive        ADATA  ADATA      su800   \n4  B07TDW8Z3M    drive        ADATA  ADATA      su760   \n\n                                        product_name drive_type drive_subtype  \\\n0  ADATA SU800 128GB 3D-NAND 2.5 Inch SATA III Hi...        ssd          sata   \n1  ADATA SU800 256GB 3D-NAND 2.5 Inch SATA III Hi...        ssd          sata   \n2  ADATA USA Ultimate Su800 1TB 3D Nand 2.5 Inch ...        ssd          sata   \n3  ADATA SU800 2TB 3D-NAND 2.5 Inch SATA III High...        ssd          sata   \n4  ADATA SU760 256GB 3D NAND 2.5 Inch SATA III In...        ssd          sata   \n\n  capacity  last_update  \n0    128gb      5722242  \n1    512gb      5722182  \n2      1tb      5722216  \n3      2tb      5722242  \n4    256gb      5722242  ",
      "text/html": "<div>\n<style scoped>\n    .dataframe tbody tr th:only-of-type {\n        vertical-align: middle;\n    }\n\n    .dataframe tbody tr th {\n        vertical-align: top;\n    }\n\n    .dataframe thead th {\n        text-align: right;\n    }\n</style>\n<table border=\"1\" class=\"dataframe\">\n  <thead>\n    <tr style=\"text-align: right;\">\n      <th></th>\n      <th>asin</th>\n      <th>catagory</th>\n      <th>manufacturer</th>\n      <th>brand</th>\n      <th>model_name</th>\n      <th>product_name</th>\n      <th>drive_type</th>\n      <th>drive_subtype</th>\n      <th>capacity</th>\n      <th>last_update</th>\n    </tr>\n  </thead>\n  <tbody>\n    <tr>\n      <th>0</th>\n      <td>B01K8A29BE</td>\n      <td>drive</td>\n      <td>ADATA USA</td>\n      <td>ADATA</td>\n      <td>su800</td>\n      <td>ADATA SU800 128GB 3D-NAND 2.5 Inch SATA III Hi...</td>\n      <td>ssd</td>\n      <td>sata</td>\n      <td>128gb</td>\n      <td>5722242</td>\n    </tr>\n    <tr>\n      <th>1</th>\n      <td>B01K8A2A0E</td>\n      <td>drive</td>\n      <td>ADATA USA</td>\n      <td>ADATA</td>\n      <td>su800</td>\n      <td>ADATA SU800 256GB 3D-NAND 2.5 Inch SATA III Hi...</td>\n      <td>ssd</td>\n      <td>sata</td>\n      <td>512gb</td>\n      <td>5722182</td>\n    </tr>\n    <tr>\n      <th>2</th>\n      <td>B01K8A29E6</td>\n      <td>drive</td>\n      <td>ADATA USA</td>\n      <td>ADATA</td>\n      <td>su800</td>\n      <td>ADATA USA Ultimate Su800 1TB 3D Nand 2.5 Inch ...</td>\n      <td>ssd</td>\n      <td>sata</td>\n      <td>1tb</td>\n      <td>5722216</td>\n    </tr>\n    <tr>\n      <th>3</th>\n      <td>B07GBRG2G8</td>\n      <td>drive</td>\n      <td>ADATA</td>\n      <td>ADATA</td>\n      <td>su800</td>\n      <td>ADATA SU800 2TB 3D-NAND 2.5 Inch SATA III High...</td>\n      <td>ssd</td>\n      <td>sata</td>\n      <td>2tb</td>\n      <td>5722242</td>\n    </tr>\n    <tr>\n      <th>4</th>\n      <td>B07TDW8Z3M</td>\n      <td>drive</td>\n      <td>ADATA</td>\n      <td>ADATA</td>\n      <td>su760</td>\n      <td>ADATA SU760 256GB 3D NAND 2.5 Inch SATA III In...</td>\n      <td>ssd</td>\n      <td>sata</td>\n      <td>256gb</td>\n      <td>5722242</td>\n    </tr>\n  </tbody>\n</table>\n</div>"
     },
     "execution_count": 12,
     "metadata": {},
     "output_type": "execute_result"
    }
   ],
   "source": [
    "import sqlite3\n",
    "\n",
    "import pandas as pd\n",
    "\n",
    "\n",
    "db = sqlite3.connect('../data/amazon.db')\n",
    "\n",
    "drive_df = pd.read_sql('select * from drive', db)\n",
    "drive_df.head()"
   ]
  },
  {
   "cell_type": "markdown",
   "source": [
    "Query all time series"
   ],
   "metadata": {
    "collapsed": false
   }
  },
  {
   "cell_type": "code",
   "execution_count": 13,
   "outputs": [
    {
     "name": "stdout",
     "output_type": "stream",
     "text": [
      "{'base_price': 3647.3225806451615, '2021-01': 1.0, '2021-02': 1.0375223160982932, '2021-03': 1.0353772541944157, '2021-04': 1.0412295364695268, '2021-05': 1.113879381251824, '2021-06': 1.0717816280022758, '2021-07': 1.0475293410101973, '2021-08': 0.9649499854068826, '2021-09': 0.9587489423675049, '2021-10': 0.9327301511493186}\n"
     ]
    }
   ],
   "source": [
    "def search(asin):\n",
    "    drive_ts = pd.read_sql_query(f'select keepa_minute, value1 from drive_ts where asin = \"{asin}\" and keepa_idx=1 and value1 != -1', db)\n",
    "    drive_ts['ts'] = pd.to_datetime((drive_ts['keepa_minute'] + 21564000) * 60, unit='s')\n",
    "    drive_ts.set_index('ts', inplace=True)\n",
    "    drive_ts = drive_ts.resample('1D').ffill()\n",
    "    drive_ts = drive_ts.resample('M').mean()\n",
    "    if '2021-01' not in drive_ts.index:\n",
    "        return None\n",
    "    base_price = drive_ts.loc['2021-01']['value1'][0]\n",
    "    price_dict = {'base_price': base_price}\n",
    "    for d in ['2021-01', '2021-02', '2021-03', '2021-04', '2021-05', '2021-06', '2021-07', '2021-08', '2021-09', '2021-10']:\n",
    "        if d in drive_ts.index:\n",
    "            price_dict[d] = drive_ts.loc[d]['value1'][0] / base_price\n",
    "        else:\n",
    "            price_dict[d] = 1\n",
    "    return price_dict\n",
    "\n",
    "print(search(drive_df['asin'][1]))"
   ],
   "metadata": {
    "collapsed": false,
    "pycharm": {
     "name": "#%%\n"
    }
   }
  },
  {
   "cell_type": "code",
   "execution_count": 14,
   "outputs": [
    {
     "data": {
      "text/plain": "286"
     },
     "execution_count": 14,
     "metadata": {},
     "output_type": "execute_result"
    }
   ],
   "source": [
    "df_dict = []\n",
    "\n",
    "for idx, row in drive_df.iterrows():\n",
    "    ts = search(row['asin'])\n",
    "    if ts is None:\n",
    "        continue\n",
    "    ts['asin'] = row['asin']\n",
    "    ts['brand'] = row['brand']\n",
    "    ts['product'] = row['model_name']\n",
    "    ts['drive_type'] = row['drive_type']\n",
    "    ts['drive_subtype'] = row['drive_subtype']\n",
    "    ts['capacity'] = row['capacity']\n",
    "    df_dict.append(ts)\n",
    "\n",
    "\n",
    "df = pd.DataFrame(df_dict)\n",
    "df.insert(0, 'CHIA_IMPACT', [0] * len(df))\n",
    "len(df)"
   ],
   "metadata": {
    "collapsed": false,
    "pycharm": {
     "name": "#%%\n"
    }
   }
  },
  {
   "cell_type": "code",
   "execution_count": 15,
   "outputs": [],
   "source": [
    "from sklearn.model_selection import train_test_split\n",
    "\n",
    "df_train, df_test = train_test_split(df, train_size=30)\n",
    "df_train.to_csv('drive_train.csv', index=False)\n",
    "df_test.to_csv('drive_test.csv', index=False)"
   ],
   "metadata": {
    "collapsed": false,
    "pycharm": {
     "name": "#%%\n"
    }
   }
  },
  {
   "cell_type": "markdown",
   "source": [
    "Close database connection."
   ],
   "metadata": {
    "collapsed": false
   }
  },
  {
   "cell_type": "code",
   "execution_count": 16,
   "outputs": [],
   "source": [
    "db.close()"
   ],
   "metadata": {
    "collapsed": false,
    "pycharm": {
     "name": "#%%\n"
    }
   }
  }
 ],
 "metadata": {
  "kernelspec": {
   "display_name": "Python 3",
   "language": "python",
   "name": "python3"
  },
  "language_info": {
   "codemirror_mode": {
    "name": "ipython",
    "version": 2
   },
   "file_extension": ".py",
   "mimetype": "text/x-python",
   "name": "python",
   "nbconvert_exporter": "python",
   "pygments_lexer": "ipython2",
   "version": "2.7.6"
  }
 },
 "nbformat": 4,
 "nbformat_minor": 0
}