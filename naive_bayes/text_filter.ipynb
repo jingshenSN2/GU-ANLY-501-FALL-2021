{
 "cells": [
  {
   "cell_type": "code",
   "execution_count": 17,
   "metadata": {
    "collapsed": true
   },
   "outputs": [
    {
     "data": {
      "text/plain": "3363"
     },
     "execution_count": 17,
     "metadata": {},
     "output_type": "execute_result"
    }
   ],
   "source": [
    "import pandas as pd\n",
    "\n",
    "df = pd.read_csv('../data/comments_labeled.csv')\n",
    "df = df[df['LABEL'] == 1]\n",
    "df = df[df['text'].str.split().apply(len) >= 20]\n",
    "len(df)"
   ]
  },
  {
   "cell_type": "code",
   "execution_count": 18,
   "outputs": [
    {
     "data": {
      "text/plain": "2020-11    313\n2021-02    233\n2020-09    214\n2018-06    197\n2020-10    187\n2018-08    176\n2021-01    161\n2020-12    157\n2021-04    154\n2021-09    137\n2021-08    129\n2019-06    123\n2019-07    119\n2019-08    118\n2021-03    102\n2021-05     96\n2020-06     77\n2021-07     72\n2021-06     62\n2019-02     60\n2020-08     56\n2018-09     46\n2019-10     43\n2019-01     41\n2020-03     39\n2020-05     34\n2018-07     31\n2019-05     30\n2019-04     25\n2019-12     23\n2020-02     23\n2019-11     23\n2020-04     21\n2018-10     15\n2020-07     12\n2019-09      9\n2019-03      3\n2020-01      1\n2018-11      1\nName: published_month, dtype: int64"
     },
     "execution_count": 18,
     "metadata": {},
     "output_type": "execute_result"
    }
   ],
   "source": [
    "df['published_month'] = df['published_week'].apply(lambda x: x[:7])\n",
    "df = df[['text','like','published_month']]\n",
    "df.insert(0, 'LABEL', value=[0] * len(df))\n",
    "\n",
    "df['published_month'].value_counts()"
   ],
   "metadata": {
    "collapsed": false,
    "pycharm": {
     "name": "#%%\n"
    }
   }
  },
  {
   "cell_type": "code",
   "execution_count": 19,
   "outputs": [],
   "source": [
    "from sklearn.model_selection import train_test_split\n",
    "\n",
    "X_train, X_test = train_test_split(df, train_size=300, random_state=1, stratify=df['published_month'].apply(lambda x: x[:4]))"
   ],
   "metadata": {
    "collapsed": false,
    "pycharm": {
     "name": "#%%\n"
    }
   }
  },
  {
   "cell_type": "code",
   "execution_count": 20,
   "outputs": [],
   "source": [
    "X_train.to_csv('text_train.csv', index=False)\n",
    "X_test.to_csv('text_test.csv', index=False)"
   ],
   "metadata": {
    "collapsed": false,
    "pycharm": {
     "name": "#%%\n"
    }
   }
  }
 ],
 "metadata": {
  "kernelspec": {
   "display_name": "Python 3",
   "language": "python",
   "name": "python3"
  },
  "language_info": {
   "codemirror_mode": {
    "name": "ipython",
    "version": 2
   },
   "file_extension": ".py",
   "mimetype": "text/x-python",
   "name": "python",
   "nbconvert_exporter": "python",
   "pygments_lexer": "ipython2",
   "version": "2.7.6"
  }
 },
 "nbformat": 4,
 "nbformat_minor": 0
}