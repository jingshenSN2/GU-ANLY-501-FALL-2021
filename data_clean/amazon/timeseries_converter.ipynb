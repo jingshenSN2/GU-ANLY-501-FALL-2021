{
 "cells": [
  {
   "cell_type": "code",
   "execution_count": 28,
   "outputs": [],
   "source": [
    "# some useful keepa time series attributes\n",
    "keepa_idxes = {1: 'NEW', 2: 'USED', 18: 'BUY_BOX',\n",
    "               28: 'EBAY_NEW', 29: 'EBAY_USED'}"
   ],
   "metadata": {
    "collapsed": false,
    "pycharm": {
     "name": "#%%\n"
    }
   }
  },
  {
   "cell_type": "markdown",
   "source": [
    "Read cpu table from amazon.db"
   ],
   "metadata": {
    "collapsed": false,
    "pycharm": {
     "name": "#%% md\n"
    }
   }
  },
  {
   "cell_type": "code",
   "execution_count": 29,
   "metadata": {
    "collapsed": true
   },
   "outputs": [
    {
     "data": {
      "text/plain": "         asin catagory manufacturer  brand      model_name  \\\n0  B07YP67PFV      cpu        Intel  Intel  core i9-10940X   \n1  B07YP6Y9VY      cpu        Intel  Intel  core i9-10920X   \n2  B07YP69HTM      cpu        Intel  Intel  core i9-10900X   \n3  B07JGCMQY8      cpu          D&H  Intel  core i9-9980XE   \n4  B07JFH771Y      cpu          D&H  Intel   core i9-9940X   \n\n                                        product_name  last_update  \n0  Intel Core i9-10940X Desktop Processor 14 Core...      5616932  \n1  Intel Core i9-10920X Desktop Processor 12 Core...      5616932  \n2  Intel Core i9-10900X Desktop Processor 10 Core...      5616932  \n3  Intel Core i9-9980XE Extreme Edition Processor...      5616904  \n4  Intel Core i9-9940X X-Series Processor 14 Core...      5616932  ",
      "text/html": "<div>\n<style scoped>\n    .dataframe tbody tr th:only-of-type {\n        vertical-align: middle;\n    }\n\n    .dataframe tbody tr th {\n        vertical-align: top;\n    }\n\n    .dataframe thead th {\n        text-align: right;\n    }\n</style>\n<table border=\"1\" class=\"dataframe\">\n  <thead>\n    <tr style=\"text-align: right;\">\n      <th></th>\n      <th>asin</th>\n      <th>catagory</th>\n      <th>manufacturer</th>\n      <th>brand</th>\n      <th>model_name</th>\n      <th>product_name</th>\n      <th>last_update</th>\n    </tr>\n  </thead>\n  <tbody>\n    <tr>\n      <th>0</th>\n      <td>B07YP67PFV</td>\n      <td>cpu</td>\n      <td>Intel</td>\n      <td>Intel</td>\n      <td>core i9-10940X</td>\n      <td>Intel Core i9-10940X Desktop Processor 14 Core...</td>\n      <td>5616932</td>\n    </tr>\n    <tr>\n      <th>1</th>\n      <td>B07YP6Y9VY</td>\n      <td>cpu</td>\n      <td>Intel</td>\n      <td>Intel</td>\n      <td>core i9-10920X</td>\n      <td>Intel Core i9-10920X Desktop Processor 12 Core...</td>\n      <td>5616932</td>\n    </tr>\n    <tr>\n      <th>2</th>\n      <td>B07YP69HTM</td>\n      <td>cpu</td>\n      <td>Intel</td>\n      <td>Intel</td>\n      <td>core i9-10900X</td>\n      <td>Intel Core i9-10900X Desktop Processor 10 Core...</td>\n      <td>5616932</td>\n    </tr>\n    <tr>\n      <th>3</th>\n      <td>B07JGCMQY8</td>\n      <td>cpu</td>\n      <td>D&amp;H</td>\n      <td>Intel</td>\n      <td>core i9-9980XE</td>\n      <td>Intel Core i9-9980XE Extreme Edition Processor...</td>\n      <td>5616904</td>\n    </tr>\n    <tr>\n      <th>4</th>\n      <td>B07JFH771Y</td>\n      <td>cpu</td>\n      <td>D&amp;H</td>\n      <td>Intel</td>\n      <td>core i9-9940X</td>\n      <td>Intel Core i9-9940X X-Series Processor 14 Core...</td>\n      <td>5616932</td>\n    </tr>\n  </tbody>\n</table>\n</div>"
     },
     "execution_count": 29,
     "metadata": {},
     "output_type": "execute_result"
    }
   ],
   "source": [
    "import sqlite3\n",
    "import pandas as pd\n",
    "import matplotlib.pyplot as plt\n",
    "import seaborn as sns\n",
    "\n",
    "\n",
    "db = sqlite3.connect('../../data/amazon.db')\n",
    "\n",
    "cpu_df = pd.read_sql('select * from cpu', db)\n",
    "cpu_df.head()"
   ]
  },
  {
   "cell_type": "markdown",
   "source": [
    "Query the first asin in cpu_ts table with keepa_idx = 1."
   ],
   "metadata": {
    "collapsed": false
   }
  },
  {
   "cell_type": "code",
   "execution_count": 30,
   "outputs": [
    {
     "data": {
      "text/plain": "   keepa_minute  value1\n0       4681356      -1\n1       4724176   93354\n2       4725626   87090\n3       4725944   97188\n4       4726372      -1",
      "text/html": "<div>\n<style scoped>\n    .dataframe tbody tr th:only-of-type {\n        vertical-align: middle;\n    }\n\n    .dataframe tbody tr th {\n        vertical-align: top;\n    }\n\n    .dataframe thead th {\n        text-align: right;\n    }\n</style>\n<table border=\"1\" class=\"dataframe\">\n  <thead>\n    <tr style=\"text-align: right;\">\n      <th></th>\n      <th>keepa_minute</th>\n      <th>value1</th>\n    </tr>\n  </thead>\n  <tbody>\n    <tr>\n      <th>0</th>\n      <td>4681356</td>\n      <td>-1</td>\n    </tr>\n    <tr>\n      <th>1</th>\n      <td>4724176</td>\n      <td>93354</td>\n    </tr>\n    <tr>\n      <th>2</th>\n      <td>4725626</td>\n      <td>87090</td>\n    </tr>\n    <tr>\n      <th>3</th>\n      <td>4725944</td>\n      <td>97188</td>\n    </tr>\n    <tr>\n      <th>4</th>\n      <td>4726372</td>\n      <td>-1</td>\n    </tr>\n  </tbody>\n</table>\n</div>"
     },
     "execution_count": 30,
     "metadata": {},
     "output_type": "execute_result"
    }
   ],
   "source": [
    "first_asin = cpu_df['asin'][0]\n",
    "cpu_ts_1 = pd.read_sql_query(f'select keepa_minute, value1 from cpu_ts where asin = \"{first_asin}\" and keepa_idx=1', db)\n",
    "cpu_ts_1.head()"
   ],
   "metadata": {
    "collapsed": false,
    "pycharm": {
     "name": "#%%\n"
    }
   }
  },
  {
   "cell_type": "markdown",
   "source": [
    "Convert keepa_minute to timestamp."
   ],
   "metadata": {
    "collapsed": false
   }
  },
  {
   "cell_type": "code",
   "execution_count": 31,
   "outputs": [
    {
     "data": {
      "text/plain": "   keepa_minute  value1                  ts\n0       4681356      -1 2019-11-25 22:36:00\n1       4724176   93354 2019-12-25 16:16:00\n2       4725626   87090 2019-12-26 16:26:00\n3       4725944   97188 2019-12-26 21:44:00\n4       4726372      -1 2019-12-27 04:52:00",
      "text/html": "<div>\n<style scoped>\n    .dataframe tbody tr th:only-of-type {\n        vertical-align: middle;\n    }\n\n    .dataframe tbody tr th {\n        vertical-align: top;\n    }\n\n    .dataframe thead th {\n        text-align: right;\n    }\n</style>\n<table border=\"1\" class=\"dataframe\">\n  <thead>\n    <tr style=\"text-align: right;\">\n      <th></th>\n      <th>keepa_minute</th>\n      <th>value1</th>\n      <th>ts</th>\n    </tr>\n  </thead>\n  <tbody>\n    <tr>\n      <th>0</th>\n      <td>4681356</td>\n      <td>-1</td>\n      <td>2019-11-25 22:36:00</td>\n    </tr>\n    <tr>\n      <th>1</th>\n      <td>4724176</td>\n      <td>93354</td>\n      <td>2019-12-25 16:16:00</td>\n    </tr>\n    <tr>\n      <th>2</th>\n      <td>4725626</td>\n      <td>87090</td>\n      <td>2019-12-26 16:26:00</td>\n    </tr>\n    <tr>\n      <th>3</th>\n      <td>4725944</td>\n      <td>97188</td>\n      <td>2019-12-26 21:44:00</td>\n    </tr>\n    <tr>\n      <th>4</th>\n      <td>4726372</td>\n      <td>-1</td>\n      <td>2019-12-27 04:52:00</td>\n    </tr>\n  </tbody>\n</table>\n</div>"
     },
     "execution_count": 31,
     "metadata": {},
     "output_type": "execute_result"
    }
   ],
   "source": [
    "cpu_ts_1['ts'] = pd.to_datetime((cpu_ts_1['keepa_minute'] + 21564000) * 60, unit='s')\n",
    "cpu_ts_1.head()"
   ],
   "metadata": {
    "collapsed": false,
    "pycharm": {
     "name": "#%%\n"
    }
   }
  },
  {
   "cell_type": "markdown",
   "source": [
    "Take a look at the distribution of time interval in this time series."
   ],
   "metadata": {
    "collapsed": false
   }
  },
  {
   "cell_type": "code",
   "execution_count": 32,
   "outputs": [
    {
     "data": {
      "text/plain": "<AxesSubplot:ylabel='Count'>"
     },
     "execution_count": 32,
     "metadata": {},
     "output_type": "execute_result"
    },
    {
     "data": {
      "text/plain": "<Figure size 432x288 with 1 Axes>",
      "image/png": "[encoded data removed]"
     },
     "metadata": {
      "needs_background": "light"
     },
     "output_type": "display_data"
    }
   ],
   "source": [
    "import numpy as np\n",
    "\n",
    "intervals = (cpu_ts_1['ts'].values[1:] - cpu_ts_1['ts'].values[:len(cpu_ts_1) - 1])  / np.timedelta64(1, 'h')\n",
    "sns.histplot(intervals)"
   ],
   "metadata": {
    "collapsed": false,
    "pycharm": {
     "name": "#%%\n"
    }
   }
  },
  {
   "cell_type": "markdown",
   "source": [
    "Then set ts column as index."
   ],
   "metadata": {
    "collapsed": false
   }
  },
  {
   "cell_type": "code",
   "execution_count": 33,
   "outputs": [],
   "source": [
    "cpu_ts_1.set_index('ts', inplace=True)"
   ],
   "metadata": {
    "collapsed": false,
    "pycharm": {
     "name": "#%%\n"
    }
   }
  },
  {
   "cell_type": "markdown",
   "source": [
    "Draw plots of the raw data."
   ],
   "metadata": {
    "collapsed": false,
    "pycharm": {
     "name": "#%% md\n"
    }
   }
  },
  {
   "cell_type": "code",
   "execution_count": 34,
   "outputs": [
    {
     "data": {
      "text/plain": "[<matplotlib.lines.Line2D at 0x2857a2f0348>]"
     },
     "execution_count": 34,
     "metadata": {},
     "output_type": "execute_result"
    },
    {
     "data": {
      "text/plain": "<Figure size 432x288 with 1 Axes>",
      "image/png": "[encoded data removed]"
     },
     "metadata": {
      "needs_background": "light"
     },
     "output_type": "display_data"
    }
   ],
   "source": [
    "plt.plot(cpu_ts_1.index, cpu_ts_1['value1'])"
   ],
   "metadata": {
    "collapsed": false,
    "pycharm": {
     "name": "#%%\n"
    }
   }
  },
  {
   "cell_type": "markdown",
   "source": [
    "We use 1h(3600s) as the smoothing interval to upsample the time series."
   ],
   "metadata": {
    "collapsed": false,
    "pycharm": {
     "name": "#%% md\n"
    }
   }
  },
  {
   "cell_type": "code",
   "execution_count": 35,
   "outputs": [
    {
     "data": {
      "text/plain": "                     keepa_minute  value1\nts                                       \n2019-11-25 22:00:00           NaN     NaN\n2019-11-25 23:00:00     4681356.0    -1.0\n2019-11-26 00:00:00     4681356.0    -1.0\n2019-11-26 01:00:00     4681356.0    -1.0\n2019-11-26 02:00:00     4681356.0    -1.0",
      "text/html": "<div>\n<style scoped>\n    .dataframe tbody tr th:only-of-type {\n        vertical-align: middle;\n    }\n\n    .dataframe tbody tr th {\n        vertical-align: top;\n    }\n\n    .dataframe thead th {\n        text-align: right;\n    }\n</style>\n<table border=\"1\" class=\"dataframe\">\n  <thead>\n    <tr style=\"text-align: right;\">\n      <th></th>\n      <th>keepa_minute</th>\n      <th>value1</th>\n    </tr>\n    <tr>\n      <th>ts</th>\n      <th></th>\n      <th></th>\n    </tr>\n  </thead>\n  <tbody>\n    <tr>\n      <th>2019-11-25 22:00:00</th>\n      <td>NaN</td>\n      <td>NaN</td>\n    </tr>\n    <tr>\n      <th>2019-11-25 23:00:00</th>\n      <td>4681356.0</td>\n      <td>-1.0</td>\n    </tr>\n    <tr>\n      <th>2019-11-26 00:00:00</th>\n      <td>4681356.0</td>\n      <td>-1.0</td>\n    </tr>\n    <tr>\n      <th>2019-11-26 01:00:00</th>\n      <td>4681356.0</td>\n      <td>-1.0</td>\n    </tr>\n    <tr>\n      <th>2019-11-26 02:00:00</th>\n      <td>4681356.0</td>\n      <td>-1.0</td>\n    </tr>\n  </tbody>\n</table>\n</div>"
     },
     "execution_count": 35,
     "metadata": {},
     "output_type": "execute_result"
    }
   ],
   "source": [
    "cpu_ts_1_1h = cpu_ts_1.resample('1H').pad()\n",
    "cpu_ts_1_1h.head()"
   ],
   "metadata": {
    "collapsed": false,
    "pycharm": {
     "name": "#%%\n"
    }
   }
  },
  {
   "cell_type": "markdown",
   "source": [
    "Draw plots of the equal-interval data."
   ],
   "metadata": {
    "collapsed": false
   }
  },
  {
   "cell_type": "code",
   "execution_count": 36,
   "outputs": [
    {
     "data": {
      "text/plain": "[<matplotlib.lines.Line2D at 0x2857c3bc908>]"
     },
     "execution_count": 36,
     "metadata": {},
     "output_type": "execute_result"
    },
    {
     "data": {
      "text/plain": "<Figure size 432x288 with 1 Axes>",
      "image/png": "[encoded data removed]"
     },
     "metadata": {
      "needs_background": "light"
     },
     "output_type": "display_data"
    }
   ],
   "source": [
    "plt.plot(cpu_ts_1_1h.index, cpu_ts_1_1h['value1'])"
   ],
   "metadata": {
    "collapsed": false,
    "pycharm": {
     "name": "#%%\n"
    }
   }
  },
  {
   "cell_type": "markdown",
   "source": [
    "Try 1 day as resample interval"
   ],
   "metadata": {
    "collapsed": false
   }
  },
  {
   "cell_type": "code",
   "execution_count": 37,
   "outputs": [
    {
     "data": {
      "text/plain": "            keepa_minute  value1\nts                              \n2019-11-25           NaN     NaN\n2019-11-26     4681356.0    -1.0\n2019-11-27     4681356.0    -1.0\n2019-11-28     4681356.0    -1.0\n2019-11-29     4681356.0    -1.0",
      "text/html": "<div>\n<style scoped>\n    .dataframe tbody tr th:only-of-type {\n        vertical-align: middle;\n    }\n\n    .dataframe tbody tr th {\n        vertical-align: top;\n    }\n\n    .dataframe thead th {\n        text-align: right;\n    }\n</style>\n<table border=\"1\" class=\"dataframe\">\n  <thead>\n    <tr style=\"text-align: right;\">\n      <th></th>\n      <th>keepa_minute</th>\n      <th>value1</th>\n    </tr>\n    <tr>\n      <th>ts</th>\n      <th></th>\n      <th></th>\n    </tr>\n  </thead>\n  <tbody>\n    <tr>\n      <th>2019-11-25</th>\n      <td>NaN</td>\n      <td>NaN</td>\n    </tr>\n    <tr>\n      <th>2019-11-26</th>\n      <td>4681356.0</td>\n      <td>-1.0</td>\n    </tr>\n    <tr>\n      <th>2019-11-27</th>\n      <td>4681356.0</td>\n      <td>-1.0</td>\n    </tr>\n    <tr>\n      <th>2019-11-28</th>\n      <td>4681356.0</td>\n      <td>-1.0</td>\n    </tr>\n    <tr>\n      <th>2019-11-29</th>\n      <td>4681356.0</td>\n      <td>-1.0</td>\n    </tr>\n  </tbody>\n</table>\n</div>"
     },
     "execution_count": 37,
     "metadata": {},
     "output_type": "execute_result"
    }
   ],
   "source": [
    "cpu_ts_1_1d = cpu_ts_1.resample('1D').ffill()\n",
    "cpu_ts_1_1d.head()"
   ],
   "metadata": {
    "collapsed": false,
    "pycharm": {
     "name": "#%%\n"
    }
   }
  },
  {
   "cell_type": "markdown",
   "source": [
    "Draw plots of the equal-interval data."
   ],
   "metadata": {
    "collapsed": false
   }
  },
  {
   "cell_type": "code",
   "execution_count": 38,
   "outputs": [
    {
     "data": {
      "text/plain": "[<matplotlib.lines.Line2D at 0x2857b0f44c8>]"
     },
     "execution_count": 38,
     "metadata": {},
     "output_type": "execute_result"
    },
    {
     "data": {
      "text/plain": "<Figure size 432x288 with 1 Axes>",
      "image/png": "[encoded data removed]"
     },
     "metadata": {
      "needs_background": "light"
     },
     "output_type": "display_data"
    }
   ],
   "source": [
    "plt.plot(cpu_ts_1_1d.index, cpu_ts_1_1d['value1'])"
   ],
   "metadata": {
    "collapsed": false,
    "pycharm": {
     "name": "#%%\n"
    }
   }
  },
  {
   "cell_type": "markdown",
   "source": [
    "Then we read all products."
   ],
   "metadata": {
    "collapsed": false
   }
  },
  {
   "cell_type": "code",
   "execution_count": 39,
   "outputs": [],
   "source": [
    "gpu_df = pd.read_sql('select * from gpu', db)\n",
    "dr_df = pd.read_sql('select * from drive', db)"
   ],
   "metadata": {
    "collapsed": false,
    "pycharm": {
     "name": "#%%\n"
    }
   }
  },
  {
   "cell_type": "markdown",
   "source": [
    "Resample time series and save to file."
   ],
   "metadata": {
    "collapsed": false
   }
  },
  {
   "cell_type": "code",
   "execution_count": 40,
   "outputs": [
    {
     "name": "stdout",
     "output_type": "stream",
     "text": [
      "Save labels to NEW\n",
      "Save time series to NEW\n",
      "Save labels to USED\n",
      "Save time series to USED\n",
      "Save labels to BUY_BOX\n",
      "Save time series to BUY_BOX\n",
      "Save labels to EBAY_NEW\n",
      "Save time series to EBAY_NEW\n",
      "Save labels to EBAY_USED\n",
      "Save time series to EBAY_USED\n"
     ]
    }
   ],
   "source": [
    "def resample_1d(table, asin, keepa_idx):\n",
    "    ts = pd.read_sql_query(f'select keepa_minute, value1 from {table} where asin = \"{asin}\" and keepa_idx={keepa_idx}', db)\n",
    "    ts['ts'] = pd.to_datetime((ts['keepa_minute'] + 21564000) * 60, unit='s')\n",
    "    ts.drop(['keepa_minute'], axis=1, inplace=True)\n",
    "    ts.set_index('ts', inplace=True)\n",
    "    ts = ts.resample('1D').ffill().dropna()\n",
    "    return ts\n",
    "\n",
    "for idx, name in keepa_idxes.items():\n",
    "    label_files = {t: open(f'../../data/amazon/{name}_label_{t}.txt', 'w') for t in ['s', '6m', '1y', '2y', '4y']}\n",
    "    ts_files = {t: open(f'../../data/amazon/{name}_ts_{t}.txt', 'w') for t in ['s', '6m', '1y', '2y', '4y']}\n",
    "    def process(df, table_name, category, info_list):\n",
    "        for _, row in df.iterrows():\n",
    "            ts_df = resample_1d(table_name, row['asin'], idx)\n",
    "            v1 = [str(int(v)) for v in ts_df['value1']]\n",
    "            label = ' '.join([category] + [row[info] for info in info_list])\n",
    "            ts = ' '.join(v1)\n",
    "            if len(v1) >= 1440:\n",
    "                time_range = '4y'\n",
    "            elif len(v1) >= 720:\n",
    "                time_range = '2y'\n",
    "            elif len(v1) >= 360:\n",
    "                time_range = '1y'\n",
    "            elif len(v1) >= 180:\n",
    "                time_range = '6m'\n",
    "            elif len(v1) > 10:\n",
    "                time_range = 's'\n",
    "            else:\n",
    "                # if time series less than 10 days, drop it\n",
    "                continue\n",
    "            label_files[time_range].write(label)\n",
    "            label_files[time_range].write('\\n')\n",
    "            ts_files[time_range].write(ts)\n",
    "            ts_files[time_range].write('\\n')\n",
    "    process(cpu_df, 'cpu_ts', 'cpu', ['brand', 'model_name'])\n",
    "    process(gpu_df, 'gpu_ts', 'gpu', ['brand', 'model_name'])\n",
    "    process(dr_df, 'drive_ts', 'drive', ['brand', 'model_name', 'drive_subtype', 'capacity'])\n",
    "\n",
    "    [f.close() for _, f in label_files.items()]\n",
    "    print(f'Save labels to {name}')\n",
    "    [f.close() for _, f in ts_files.items()]\n",
    "    print(f'Save time series to {name}')"
   ],
   "metadata": {
    "collapsed": false,
    "pycharm": {
     "name": "#%%\n"
    }
   }
  },
  {
   "cell_type": "markdown",
   "source": [
    "Close database connection."
   ],
   "metadata": {
    "collapsed": false
   }
  },
  {
   "cell_type": "code",
   "execution_count": 41,
   "outputs": [],
   "source": [
    "db.close()"
   ],
   "metadata": {
    "collapsed": false,
    "pycharm": {
     "name": "#%%\n"
    }
   }
  }
 ],
 "metadata": {
  "kernelspec": {
   "display_name": "Python 3",
   "language": "python",
   "name": "python3"
  },
  "language_info": {
   "codemirror_mode": {
    "name": "ipython",
    "version": 2
   },
   "file_extension": ".py",
   "mimetype": "text/x-python",
   "name": "python",
   "nbconvert_exporter": "python",
   "pygments_lexer": "ipython2",
   "version": "2.7.6"
  }
 },
 "nbformat": 4,
 "nbformat_minor": 0
}