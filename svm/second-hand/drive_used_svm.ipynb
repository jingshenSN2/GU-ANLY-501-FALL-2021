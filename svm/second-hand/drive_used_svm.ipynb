{
 "cells": [
  {
   "cell_type": "code",
   "execution_count": 1,
   "metadata": {
    "collapsed": true
   },
   "outputs": [],
   "source": [
    "from sklearn.model_selection import train_test_split\n",
    "\n",
    "import pandas as pd\n",
    "\n",
    "dat = pd.read_csv('drive_used_labeled.csv')\n",
    "\n",
    "train, test = train_test_split(dat, train_size=60, random_state=501)"
   ]
  },
  {
   "cell_type": "code",
   "execution_count": 2,
   "outputs": [
    {
     "data": {
      "text/plain": "60"
     },
     "execution_count": 2,
     "metadata": {},
     "output_type": "execute_result"
    }
   ],
   "source": [
    "len(train)"
   ],
   "metadata": {
    "collapsed": false,
    "pycharm": {
     "name": "#%%\n"
    }
   }
  },
  {
   "cell_type": "code",
   "execution_count": 3,
   "outputs": [
    {
     "data": {
      "text/plain": "175"
     },
     "execution_count": 3,
     "metadata": {},
     "output_type": "execute_result"
    }
   ],
   "source": [
    "len(test)"
   ],
   "metadata": {
    "collapsed": false,
    "pycharm": {
     "name": "#%%\n"
    }
   }
  },
  {
   "cell_type": "code",
   "execution_count": 4,
   "outputs": [],
   "source": [
    "X_train = train.iloc[:, 3:11]\n",
    "y_train = train.iloc[:,0]\n",
    "X_test = test.iloc[:, 3:11]\n",
    "y_test = test.iloc[:,0]"
   ],
   "metadata": {
    "collapsed": false,
    "pycharm": {
     "name": "#%%\n"
    }
   }
  },
  {
   "cell_type": "code",
   "execution_count": 5,
   "outputs": [
    {
     "data": {
      "text/plain": "GridSearchCV(cv=5, estimator=SVC(),\n             param_grid=[{'C': [0.01, 0.02, 0.05, 0.1, 0.2, 0.5, 1],\n                          'kernel': ['linear']},\n                         {'C': [0.01, 0.02, 0.05, 0.1, 0.2, 0.5, 1],\n                          'kernel': ['rbf']},\n                         {'C': [0.01, 0.02, 0.05, 0.1, 0.2, 0.5, 1],\n                          'kernel': ['sigmoid']}])"
     },
     "execution_count": 5,
     "metadata": {},
     "output_type": "execute_result"
    }
   ],
   "source": [
    "from sklearn.model_selection import GridSearchCV\n",
    "from sklearn.svm import SVC\n",
    "\n",
    "param_grid = [\n",
    "  {'C': [0.01, 0.02, 0.05, 0.1, 0.2, 0.5, 1], 'kernel': ['linear']},\n",
    "  {'C': [0.01, 0.02, 0.05, 0.1, 0.2, 0.5, 1], 'kernel': ['rbf']},\n",
    "  {'C': [0.01, 0.02, 0.05, 0.1, 0.2, 0.5, 1], 'kernel': ['sigmoid']},\n",
    " ]\n",
    "svc = SVC()\n",
    "search = GridSearchCV(svc, param_grid, cv=5)\n",
    "search.fit(X_train, y_train)"
   ],
   "metadata": {
    "collapsed": false,
    "pycharm": {
     "name": "#%%\n"
    }
   }
  },
  {
   "cell_type": "code",
   "execution_count": 6,
   "outputs": [
    {
     "data": {
      "text/plain": "{'mean_fit_time': array([0.00179892, 0.00099487, 0.00160298, 0.00160646, 0.00140767,\n        0.00160751, 0.00139651, 0.00099425, 0.00159822, 0.00140214,\n        0.00160069, 0.00119944, 0.0014009 , 0.00120206, 0.00159988,\n        0.0014154 , 0.001402  , 0.00120625, 0.00160093, 0.00139756,\n        0.00139484]),\n 'std_fit_time': array([7.50128376e-04, 1.19375114e-05, 4.90558903e-04, 4.92361163e-04,\n        4.95130044e-04, 4.98122331e-04, 4.92491665e-04, 8.73978904e-06,\n        4.89399410e-04, 4.90964283e-04, 4.91062741e-04, 4.01046652e-04,\n        4.89240301e-04, 3.91308923e-04, 4.90544720e-04, 4.93659670e-04,\n        4.88454320e-04, 4.01157113e-04, 4.90428939e-04, 4.86612107e-04,\n        4.82719983e-04]),\n 'mean_score_time': array([0.00120888, 0.0009985 , 0.00079217, 0.00059752, 0.00099244,\n        0.00099292, 0.00079532, 0.00100574, 0.0010076 , 0.00099802,\n        0.00120497, 0.00099483, 0.0009995 , 0.00099444, 0.00100017,\n        0.0007843 , 0.00080919, 0.0011879 , 0.00099916, 0.00080109,\n        0.00080009]),\n 'std_score_time': array([3.95746190e-04, 3.63148361e-06, 3.96235571e-04, 4.87882584e-04,\n        1.45013385e-05, 2.26111334e-05, 3.97682687e-04, 9.77876643e-06,\n        1.21442851e-05, 1.96992043e-05, 3.96887955e-04, 1.16689759e-05,\n        6.32711996e-04, 1.40006730e-05, 1.37375453e-06, 3.92251260e-04,\n        4.04839830e-04, 3.92197232e-04, 1.80502863e-05, 4.00554225e-04,\n        4.00052292e-04]),\n 'param_C': masked_array(data=[0.01, 0.02, 0.05, 0.1, 0.2, 0.5, 1, 0.01, 0.02, 0.05,\n                    0.1, 0.2, 0.5, 1, 0.01, 0.02, 0.05, 0.1, 0.2, 0.5, 1],\n              mask=[False, False, False, False, False, False, False, False,\n                    False, False, False, False, False, False, False, False,\n                    False, False, False, False, False],\n        fill_value='?',\n             dtype=object),\n 'param_kernel': masked_array(data=['linear', 'linear', 'linear', 'linear', 'linear',\n                    'linear', 'linear', 'rbf', 'rbf', 'rbf', 'rbf', 'rbf',\n                    'rbf', 'rbf', 'sigmoid', 'sigmoid', 'sigmoid',\n                    'sigmoid', 'sigmoid', 'sigmoid', 'sigmoid'],\n              mask=[False, False, False, False, False, False, False, False,\n                    False, False, False, False, False, False, False, False,\n                    False, False, False, False, False],\n        fill_value='?',\n             dtype=object),\n 'params': [{'C': 0.01, 'kernel': 'linear'},\n  {'C': 0.02, 'kernel': 'linear'},\n  {'C': 0.05, 'kernel': 'linear'},\n  {'C': 0.1, 'kernel': 'linear'},\n  {'C': 0.2, 'kernel': 'linear'},\n  {'C': 0.5, 'kernel': 'linear'},\n  {'C': 1, 'kernel': 'linear'},\n  {'C': 0.01, 'kernel': 'rbf'},\n  {'C': 0.02, 'kernel': 'rbf'},\n  {'C': 0.05, 'kernel': 'rbf'},\n  {'C': 0.1, 'kernel': 'rbf'},\n  {'C': 0.2, 'kernel': 'rbf'},\n  {'C': 0.5, 'kernel': 'rbf'},\n  {'C': 1, 'kernel': 'rbf'},\n  {'C': 0.01, 'kernel': 'sigmoid'},\n  {'C': 0.02, 'kernel': 'sigmoid'},\n  {'C': 0.05, 'kernel': 'sigmoid'},\n  {'C': 0.1, 'kernel': 'sigmoid'},\n  {'C': 0.2, 'kernel': 'sigmoid'},\n  {'C': 0.5, 'kernel': 'sigmoid'},\n  {'C': 1, 'kernel': 'sigmoid'}],\n 'split0_test_score': array([0.66666667, 0.66666667, 0.75      , 0.75      , 0.75      ,\n        0.75      , 0.83333333, 0.66666667, 0.66666667, 0.66666667,\n        0.66666667, 0.91666667, 0.91666667, 1.        , 0.66666667,\n        0.66666667, 0.66666667, 0.66666667, 0.66666667, 0.66666667,\n        0.66666667]),\n 'split1_test_score': array([0.58333333, 0.58333333, 0.58333333, 0.58333333, 0.66666667,\n        0.75      , 0.83333333, 0.58333333, 0.58333333, 0.58333333,\n        0.58333333, 0.66666667, 0.75      , 0.75      , 0.58333333,\n        0.58333333, 0.58333333, 0.58333333, 0.58333333, 0.58333333,\n        0.58333333]),\n 'split2_test_score': array([0.58333333, 0.58333333, 0.58333333, 0.58333333, 0.66666667,\n        0.75      , 0.83333333, 0.58333333, 0.58333333, 0.58333333,\n        0.58333333, 0.75      , 0.83333333, 0.83333333, 0.58333333,\n        0.58333333, 0.58333333, 0.58333333, 0.58333333, 0.58333333,\n        0.58333333]),\n 'split3_test_score': array([0.58333333, 0.58333333, 0.66666667, 0.66666667, 0.75      ,\n        0.83333333, 0.91666667, 0.58333333, 0.58333333, 0.58333333,\n        0.58333333, 1.        , 1.        , 1.        , 0.58333333,\n        0.58333333, 0.58333333, 0.58333333, 0.58333333, 0.58333333,\n        0.58333333]),\n 'split4_test_score': array([0.58333333, 0.58333333, 0.58333333, 0.58333333, 0.66666667,\n        0.66666667, 0.66666667, 0.58333333, 0.58333333, 0.58333333,\n        0.58333333, 0.66666667, 0.66666667, 0.66666667, 0.58333333,\n        0.58333333, 0.58333333, 0.58333333, 0.58333333, 0.58333333,\n        0.58333333]),\n 'mean_test_score': array([0.6       , 0.6       , 0.63333333, 0.63333333, 0.7       ,\n        0.75      , 0.81666667, 0.6       , 0.6       , 0.6       ,\n        0.6       , 0.8       , 0.83333333, 0.85      , 0.6       ,\n        0.6       , 0.6       , 0.6       , 0.6       , 0.6       ,\n        0.6       ]),\n 'std_test_score': array([0.03333333, 0.03333333, 0.06666667, 0.06666667, 0.04082483,\n        0.05270463, 0.08164966, 0.03333333, 0.03333333, 0.03333333,\n        0.03333333, 0.13540064, 0.11785113, 0.13333333, 0.03333333,\n        0.03333333, 0.03333333, 0.03333333, 0.03333333, 0.03333333,\n        0.03333333]),\n 'rank_test_score': array([9, 9, 7, 7, 6, 5, 3, 9, 9, 9, 9, 4, 2, 1, 9, 9, 9, 9, 9, 9, 9])}"
     },
     "execution_count": 6,
     "metadata": {},
     "output_type": "execute_result"
    }
   ],
   "source": [
    "search.cv_results_"
   ],
   "metadata": {
    "collapsed": false,
    "pycharm": {
     "name": "#%%\n"
    }
   }
  },
  {
   "cell_type": "code",
   "execution_count": 12,
   "outputs": [
    {
     "data": {
      "text/plain": "<Figure size 720x576 with 1 Axes>",
      "image/png": "[encoded data removed]"
     },
     "metadata": {
      "needs_background": "light"
     },
     "output_type": "display_data"
    }
   ],
   "source": [
    "from sklearn.metrics import confusion_matrix\n",
    "import matplotlib.pyplot as plt\n",
    "import seaborn as sns\n",
    "\n",
    "svc_linear = SVC(kernel='linear', C=1)\n",
    "svc_linear.fit(X_train, y_train)\n",
    "y_pred = svc_linear.predict(X_train)\n",
    "mat = confusion_matrix(y_train, y_pred)\n",
    "plt.figure(figsize=(10, 8))\n",
    "sns.heatmap(mat.T, square=True, annot=True, fmt='d', cbar=False,\n",
    "            xticklabels=['NOT Impacted', 'Impacted'],\n",
    "            yticklabels=['NOT Impacted', 'Impacted'])\n",
    "plt.xlabel('true label')\n",
    "plt.ylabel('predicted label')\n",
    "plt.savefig('u_svm_linear_test.png')"
   ],
   "metadata": {
    "collapsed": false,
    "pycharm": {
     "name": "#%%\n"
    }
   }
  },
  {
   "cell_type": "code",
   "execution_count": 16,
   "outputs": [
    {
     "data": {
      "text/plain": "<Figure size 720x576 with 1 Axes>",
      "image/png": "[encoded data removed]"
     },
     "metadata": {
      "needs_background": "light"
     },
     "output_type": "display_data"
    }
   ],
   "source": [
    "svc_radial = SVC(kernel='rbf', C=1)\n",
    "svc_radial.fit(X_train, y_train)\n",
    "y_pred = svc_radial.predict(X_train)\n",
    "mat = confusion_matrix(y_train, y_pred)\n",
    "plt.figure(figsize=(10, 8))\n",
    "sns.heatmap(mat.T, square=True, annot=True, fmt='d', cbar=False,\n",
    "            xticklabels=['NOT Impacted', 'Impacted'],\n",
    "            yticklabels=['NOT Impacted', 'Impacted'])\n",
    "plt.xlabel('true label')\n",
    "plt.ylabel('predicted label')\n",
    "plt.savefig('u_svm_radial_test.png')"
   ],
   "metadata": {
    "collapsed": false,
    "pycharm": {
     "name": "#%%\n"
    }
   }
  },
  {
   "cell_type": "code",
   "execution_count": 15,
   "outputs": [
    {
     "data": {
      "text/plain": "<Figure size 720x576 with 1 Axes>",
      "image/png": "[encoded data removed]"
     },
     "metadata": {
      "needs_background": "light"
     },
     "output_type": "display_data"
    }
   ],
   "source": [
    "svc_sigmoid = SVC(kernel='sigmoid', C=0.5)\n",
    "svc_sigmoid.fit(X_train, y_train)\n",
    "y_pred = svc_sigmoid.predict(X_train)\n",
    "mat = confusion_matrix(y_train, y_pred)\n",
    "plt.figure(figsize=(10, 8))\n",
    "sns.heatmap(mat.T, square=True, annot=True, fmt='d', cbar=False,\n",
    "            xticklabels=['NOT Impacted', 'Impacted'],\n",
    "            yticklabels=['NOT Impacted', 'Impacted'])\n",
    "plt.xlabel('true label')\n",
    "plt.ylabel('predicted label')\n",
    "plt.savefig('u_svm_sigmoid_test.png')"
   ],
   "metadata": {
    "collapsed": false,
    "pycharm": {
     "name": "#%%\n"
    }
   }
  },
  {
   "cell_type": "code",
   "execution_count": null,
   "outputs": [],
   "source": [
    "from sklearn.metrics import confusion_matrix, classification_report\n",
    "\n",
    "y_pred = search.predict(X_train)\n",
    "confusion_matrix(y_train, y_pred)"
   ],
   "metadata": {
    "collapsed": false,
    "pycharm": {
     "name": "#%%\n"
    }
   }
  },
  {
   "cell_type": "code",
   "execution_count": null,
   "outputs": [],
   "source": [
    "print(classification_report(y_train, y_pred))"
   ],
   "metadata": {
    "collapsed": false,
    "pycharm": {
     "name": "#%%\n"
    }
   }
  },
  {
   "cell_type": "code",
   "execution_count": null,
   "outputs": [],
   "source": [
    "y_pred_test = search.predict(X_test)\n",
    "test"
   ],
   "metadata": {
    "collapsed": false,
    "pycharm": {
     "name": "#%%\n"
    }
   }
  },
  {
   "cell_type": "code",
   "execution_count": null,
   "outputs": [],
   "source": [
    "all_0 = test[y_pred_test == 0]\n",
    "all_0 = all_0.iloc[:, 2:12]\n",
    "\n",
    "all_0 = all_0.transpose()\n",
    "\n",
    "import matplotlib.pyplot as plt\n",
    "plt.figure(figsize=(8,6))\n",
    "all_0.plot(alpha=0.5)\n",
    "plt.legend(\"\")\n",
    "plt.xticks(rotation=90)\n",
    "plt.ylabel(\"Relative second-hand price\")\n",
    "plt.title(\"Second-hand Price of Drives with CHIA_IMPACT=0\")\n",
    "plt.savefig('sc_chia0.png', dpi=300)\n",
    "plt.show()"
   ],
   "metadata": {
    "collapsed": false,
    "pycharm": {
     "name": "#%%\n"
    }
   }
  },
  {
   "cell_type": "code",
   "execution_count": null,
   "outputs": [],
   "source": [
    "all_1 = test[y_pred_test == 1]\n",
    "all_1 = all_1.iloc[:, 2:12]\n",
    "all_1 = all_1.transpose()\n",
    "\n",
    "import matplotlib.pyplot as plt\n",
    "plt.figure(figsize=(8,6))\n",
    "all_1.plot(alpha=0.5)\n",
    "plt.legend(\"\")\n",
    "plt.xticks(rotation=90)\n",
    "plt.ylabel(\"Relative second-hand price\")\n",
    "plt.title(\"Second-hand Price of Drives with CHIA_IMPACT=1\")\n",
    "plt.savefig('sc_chia1.png', dpi=300)\n",
    "plt.show()"
   ],
   "metadata": {
    "collapsed": false,
    "pycharm": {
     "name": "#%%\n"
    }
   }
  }
 ],
 "metadata": {
  "kernelspec": {
   "display_name": "Python 3",
   "language": "python",
   "name": "python3"
  },
  "language_info": {
   "codemirror_mode": {
    "name": "ipython",
    "version": 2
   },
   "file_extension": ".py",
   "mimetype": "text/x-python",
   "name": "python",
   "nbconvert_exporter": "python",
   "pygments_lexer": "ipython2",
   "version": "2.7.6"
  }
 },
 "nbformat": 4,
 "nbformat_minor": 0
}