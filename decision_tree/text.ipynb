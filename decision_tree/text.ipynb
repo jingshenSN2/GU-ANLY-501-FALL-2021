{
 "cells": [
  {
   "cell_type": "code",
   "execution_count": 1,
   "metadata": {
    "collapsed": true
   },
   "outputs": [],
   "source": [
    "import pandas as pd\n",
    "\n",
    "dat = pd.read_csv('../data/comments_labeled.csv')\n",
    "dat_train = dat[dat['LABEL'] > 0]\n",
    "dat_test1 = dat[dat['LABEL'] == 0]\n",
    "dat_test2 = dat[dat['LABEL'] == -1]"
   ]
  },
  {
   "cell_type": "code",
   "execution_count": 2,
   "outputs": [],
   "source": [
    "from sklearn.feature_extraction.text import CountVectorizer\n",
    "\n",
    "cv = CountVectorizer()\n",
    "cv.fit(dat['text'])\n",
    "\n",
    "X_train = cv.transform(dat_train['text'])\n",
    "y_train = dat_train['LABEL']\n",
    "\n",
    "X_test1 = cv.transform(dat_test1['text'])\n",
    "X_test2 = cv.transform(dat_test2['text'])"
   ],
   "metadata": {
    "collapsed": false,
    "pycharm": {
     "name": "#%%\n"
    }
   }
  },
  {
   "cell_type": "code",
   "execution_count": 3,
   "outputs": [
    {
     "name": "stdout",
     "output_type": "stream",
     "text": [
      "0.8900286686973661\n",
      "[0.7774252  0.83621809 0.80441601 0.95135908 0.96567627]\n",
      "[[ 8575     0     0     0     0]\n",
      " [ 1514  3865     0     0     0]\n",
      " [ 1559     0  3206     0     0]\n",
      " [  408     0     0  3990     0]\n",
      " [ 1429     0     0     0 20102]]\n"
     ]
    }
   ],
   "source": [
    "from sklearn.tree import DecisionTreeClassifier\n",
    "from sklearn.metrics import f1_score, confusion_matrix, accuracy_score\n",
    "\n",
    "cls1 = DecisionTreeClassifier(criterion='entropy', max_depth=15, min_samples_split=10, min_samples_leaf=10, random_state=0)\n",
    "cls1.fit(X_train, y_train)\n",
    "y_pred1 = cls1.predict(X_train)\n",
    "print(accuracy_score(y_train, y_pred1))\n",
    "print(f1_score(y_train, y_pred1, average=None))\n",
    "print(confusion_matrix(y_train, y_pred1))"
   ],
   "metadata": {
    "collapsed": false,
    "pycharm": {
     "name": "#%%\n"
    }
   }
  },
  {
   "cell_type": "code",
   "execution_count": 4,
   "outputs": [
    {
     "name": "stdout",
     "output_type": "stream",
     "text": [
      "0.8921564235800036\n",
      "[0.78078762 0.89763295 0.80441601 0.89608434 0.96567627]\n",
      "[[ 8575     0     0     0     0]\n",
      " [  999  4380     0     0     0]\n",
      " [ 1559     0  3206     0     0]\n",
      " [  828     0     0  3570     0]\n",
      " [ 1429     0     0     0 20102]]\n"
     ]
    }
   ],
   "source": [
    "cls2 = DecisionTreeClassifier(criterion='gini', max_depth=15, min_samples_split=10, min_samples_leaf=10,random_state=0)\n",
    "cls2.fit(X_train, y_train)\n",
    "y_pred2 = cls2.predict(X_train)\n",
    "print(accuracy_score(y_train, y_pred2))\n",
    "print(f1_score(y_train, y_pred2, average=None))\n",
    "print(confusion_matrix(y_train, y_pred2))"
   ],
   "metadata": {
    "collapsed": false,
    "pycharm": {
     "name": "#%%\n"
    }
   }
  },
  {
   "cell_type": "code",
   "execution_count": 5,
   "outputs": [
    {
     "name": "stdout",
     "output_type": "stream",
     "text": [
      "[0.70835571 0.89763295 0.80441601 0.98570111 0.88679782]\n",
      "[[ 8575     0     0     0     0]\n",
      " [  999  4380     0     0     0]\n",
      " [ 1559     0  3206     0     0]\n",
      " [  124     0     0  4274     0]\n",
      " [ 4379     0     0     0 17152]]\n"
     ]
    }
   ],
   "source": [
    "cls3= DecisionTreeClassifier(criterion='entropy', max_depth=15, min_samples_split=10, min_samples_leaf=10,class_weight='balanced', random_state=0)\n",
    "cls3.fit(X_train, y_train)\n",
    "y_pred3 = cls3.predict(X_train)\n",
    "print(f1_score(y_train, y_pred3, average=None))\n",
    "print(confusion_matrix(y_train, y_pred3))"
   ],
   "metadata": {
    "collapsed": false,
    "pycharm": {
     "name": "#%%\n"
    }
   }
  },
  {
   "cell_type": "code",
   "execution_count": 6,
   "outputs": [
    {
     "name": "stdout",
     "output_type": "stream",
     "text": [
      "[0.75282033 0.89763295 0.80441601 0.95135908 0.93402975]\n",
      "[[ 8575     0     0     0     0]\n",
      " [  999  4380     0     0     0]\n",
      " [ 1559     0  3206     0     0]\n",
      " [  408     0     0  3990     0]\n",
      " [ 2665     0     0     0 18866]]\n"
     ]
    }
   ],
   "source": [
    "cls4 = DecisionTreeClassifier(criterion='gini', max_depth=15, min_samples_split=10, min_samples_leaf=10,class_weight='balanced', random_state=0)\n",
    "cls4.fit(X_train, y_train)\n",
    "y_pred4 = cls4.predict(X_train)\n",
    "print(f1_score(y_train, y_pred4, average=None))\n",
    "print(confusion_matrix(y_train, y_pred4))"
   ],
   "metadata": {
    "collapsed": false,
    "pycharm": {
     "name": "#%%\n"
    }
   }
  },
  {
   "cell_type": "code",
   "execution_count": 7,
   "outputs": [],
   "source": [
    "y_pred_all_true = (y_train == y_pred1) & (y_train == y_pred2) & (y_train == y_pred3) & (y_train == y_pred4)\n",
    "X_train_all_true = X_train[y_pred_all_true]\n",
    "y_train_all_true = y_train[y_pred_all_true]"
   ],
   "metadata": {
    "collapsed": false,
    "pycharm": {
     "name": "#%%\n"
    }
   }
  },
  {
   "cell_type": "code",
   "execution_count": 8,
   "outputs": [
    {
     "name": "stdout",
     "output_type": "stream",
     "text": [
      "[1. 1. 1. 1. 1.]\n",
      "[[ 8575     0     0     0     0]\n",
      " [    0  3865     0     0     0]\n",
      " [    0     0  3206     0     0]\n",
      " [    0     0     0  3570     0]\n",
      " [    0     0     0     0 17152]]\n"
     ]
    }
   ],
   "source": [
    "cls_final = DecisionTreeClassifier(criterion='gini', max_depth=15, min_samples_split=10, random_state=0)\n",
    "cls_final.fit(X_train_all_true, y_train_all_true)\n",
    "y_pred_final = cls_final.predict(X_train_all_true)\n",
    "\n",
    "print(f1_score(y_train_all_true, y_pred_final, average=None))\n",
    "print(confusion_matrix(y_train_all_true, y_pred_final))"
   ],
   "metadata": {
    "collapsed": false,
    "pycharm": {
     "name": "#%%\n"
    }
   }
  },
  {
   "cell_type": "code",
   "execution_count": 9,
   "outputs": [
    {
     "data": {
      "text/plain": "Counter({1: 92544})"
     },
     "execution_count": 9,
     "metadata": {},
     "output_type": "execute_result"
    }
   ],
   "source": [
    "from collections import Counter\n",
    "\n",
    "y_pred_test1 = cls_final.predict(X_test1)\n",
    "Counter(y_pred_test1)"
   ],
   "metadata": {
    "collapsed": false,
    "pycharm": {
     "name": "#%%\n"
    }
   }
  },
  {
   "cell_type": "code",
   "execution_count": 10,
   "outputs": [
    {
     "data": {
      "text/plain": "Counter({3: 828, 2: 1605, 4: 543, 5: 1273, 1: 1045})"
     },
     "execution_count": 10,
     "metadata": {},
     "output_type": "execute_result"
    }
   ],
   "source": [
    "from collections import Counter\n",
    "\n",
    "y_pred_test2 = cls_final.predict(X_test2)\n",
    "Counter(y_pred_test2)"
   ],
   "metadata": {
    "collapsed": false,
    "pycharm": {
     "name": "#%%\n"
    }
   }
  },
  {
   "cell_type": "code",
   "execution_count": 11,
   "outputs": [],
   "source": [
    "dat_test2.insert(0, 'DT_LABEL', value=y_pred_test2)"
   ],
   "metadata": {
    "collapsed": false,
    "pycharm": {
     "name": "#%%\n"
    }
   }
  },
  {
   "cell_type": "code",
   "execution_count": 12,
   "outputs": [
    {
     "name": "stderr",
     "output_type": "stream",
     "text": [
      "D:\\Anaconda3\\lib\\site-packages\\pandas\\core\\indexing.py:1817: SettingWithCopyWarning: \n",
      "A value is trying to be set on a copy of a slice from a DataFrame.\n",
      "Try using .loc[row_indexer,col_indexer] = value instead\n",
      "\n",
      "See the caveats in the documentation: https://pandas.pydata.org/pandas-docs/stable/user_guide/indexing.html#returning-a-view-versus-a-copy\n",
      "  self._setitem_single_column(loc, value, pi)\n"
     ]
    }
   ],
   "source": [
    "dat_final = dat[dat['LABEL'] != 0]\n",
    "\n",
    "for (idx, row), y in zip(dat_test2.iterrows(), y_pred_test2):\n",
    "    dat_final.loc[idx, 'LABEL'] = y\n",
    "dat_final.to_csv('../data/comments_dt.csv', index=False)\n",
    "dat_test2.to_csv('comments_dt_filled.csv', index=False)\n",
    "\n",
    "label_names = {\n",
    "    0: 'None',\n",
    "    1: 'GPU',\n",
    "    2: 'CPU',\n",
    "    3: 'Phone',\n",
    "    4: 'TechCompany',\n",
    "    5: 'Channel',\n",
    "    -1: 'MoreThanOneClass'\n",
    "}"
   ],
   "metadata": {
    "collapsed": false,
    "pycharm": {
     "name": "#%%\n"
    }
   }
  },
  {
   "cell_type": "code",
   "execution_count": 13,
   "outputs": [],
   "source": [
    "import pydotplus\n",
    "from sklearn.tree import export_graphviz\n",
    "\n",
    "def draw_model(tree, filename):\n",
    "    dot_data = export_graphviz(tree,\n",
    "    out_file = None,\n",
    "\tfeature_names = cv.get_feature_names(),\n",
    "\tclass_names = [label_names[x] for x in tree.classes_],\n",
    "\tfilled=True,\n",
    "\trounded = True,\n",
    "\tspecial_characters = True)\n",
    "    graph = pydotplus.graph_from_dot_data(dot_data)\n",
    "    graph.write_png(filename)\n",
    "\n",
    "draw_model(cls1, 'cls_e.png')\n",
    "draw_model(cls2, 'cls_g.png')\n",
    "draw_model(cls3, 'cls_e_bal.png')\n",
    "draw_model(cls4, 'cls_g_bal.png')\n",
    "draw_model(cls_final, 'cls_final.png')"
   ],
   "metadata": {
    "collapsed": false,
    "pycharm": {
     "name": "#%%\n"
    }
   }
  }
 ],
 "metadata": {
  "kernelspec": {
   "display_name": "Python 3",
   "language": "python",
   "name": "python3"
  },
  "language_info": {
   "codemirror_mode": {
    "name": "ipython",
    "version": 2
   },
   "file_extension": ".py",
   "mimetype": "text/x-python",
   "name": "python",
   "nbconvert_exporter": "python",
   "pygments_lexer": "ipython2",
   "version": "2.7.6"
  }
 },
 "nbformat": 4,
 "nbformat_minor": 0
}