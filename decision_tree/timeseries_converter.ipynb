{
 "cells": [
  {
   "cell_type": "markdown",
   "source": [
    "Read cpu table from amazon.db"
   ],
   "metadata": {
    "collapsed": false,
    "pycharm": {
     "name": "#%% md\n"
    }
   }
  },
  {
   "cell_type": "code",
   "execution_count": 2,
   "metadata": {
    "collapsed": true
   },
   "outputs": [
    {
     "data": {
      "text/plain": "         asin catagory manufacturer  brand      model_name  \\\n0  B07YP67PFV      cpu        Intel  Intel  core i9-10940X   \n1  B07YP6Y9VY      cpu        Intel  Intel  core i9-10920X   \n2  B07YP69HTM      cpu        Intel  Intel  core i9-10900X   \n3  B07JGCMQY8      cpu          D&H  Intel  core i9-9980XE   \n4  B07JFH771Y      cpu          D&H  Intel   core i9-9940X   \n\n                                        product_name  last_update  \n0  Intel Core i9-10940X Desktop Processor 14 Core...      5616932  \n1  Intel Core i9-10920X Desktop Processor 12 Core...      5616932  \n2  Intel Core i9-10900X Desktop Processor 10 Core...      5616932  \n3  Intel Core i9-9980XE Extreme Edition Processor...      5616904  \n4  Intel Core i9-9940X X-Series Processor 14 Core...      5616932  ",
      "text/html": "<div>\n<style scoped>\n    .dataframe tbody tr th:only-of-type {\n        vertical-align: middle;\n    }\n\n    .dataframe tbody tr th {\n        vertical-align: top;\n    }\n\n    .dataframe thead th {\n        text-align: right;\n    }\n</style>\n<table border=\"1\" class=\"dataframe\">\n  <thead>\n    <tr style=\"text-align: right;\">\n      <th></th>\n      <th>asin</th>\n      <th>catagory</th>\n      <th>manufacturer</th>\n      <th>brand</th>\n      <th>model_name</th>\n      <th>product_name</th>\n      <th>last_update</th>\n    </tr>\n  </thead>\n  <tbody>\n    <tr>\n      <th>0</th>\n      <td>B07YP67PFV</td>\n      <td>cpu</td>\n      <td>Intel</td>\n      <td>Intel</td>\n      <td>core i9-10940X</td>\n      <td>Intel Core i9-10940X Desktop Processor 14 Core...</td>\n      <td>5616932</td>\n    </tr>\n    <tr>\n      <th>1</th>\n      <td>B07YP6Y9VY</td>\n      <td>cpu</td>\n      <td>Intel</td>\n      <td>Intel</td>\n      <td>core i9-10920X</td>\n      <td>Intel Core i9-10920X Desktop Processor 12 Core...</td>\n      <td>5616932</td>\n    </tr>\n    <tr>\n      <th>2</th>\n      <td>B07YP69HTM</td>\n      <td>cpu</td>\n      <td>Intel</td>\n      <td>Intel</td>\n      <td>core i9-10900X</td>\n      <td>Intel Core i9-10900X Desktop Processor 10 Core...</td>\n      <td>5616932</td>\n    </tr>\n    <tr>\n      <th>3</th>\n      <td>B07JGCMQY8</td>\n      <td>cpu</td>\n      <td>D&amp;H</td>\n      <td>Intel</td>\n      <td>core i9-9980XE</td>\n      <td>Intel Core i9-9980XE Extreme Edition Processor...</td>\n      <td>5616904</td>\n    </tr>\n    <tr>\n      <th>4</th>\n      <td>B07JFH771Y</td>\n      <td>cpu</td>\n      <td>D&amp;H</td>\n      <td>Intel</td>\n      <td>core i9-9940X</td>\n      <td>Intel Core i9-9940X X-Series Processor 14 Core...</td>\n      <td>5616932</td>\n    </tr>\n  </tbody>\n</table>\n</div>"
     },
     "execution_count": 2,
     "metadata": {},
     "output_type": "execute_result"
    }
   ],
   "source": [
    "import sqlite3\n",
    "import pandas as pd\n",
    "import matplotlib.pyplot as plt\n",
    "import seaborn as sns\n",
    "\n",
    "\n",
    "db = sqlite3.connect('../data/amazon.db')\n",
    "\n",
    "cpu_df = pd.read_sql('select * from cpu', db)\n",
    "cpu_df.head()"
   ]
  },
  {
   "cell_type": "markdown",
   "source": [
    "Query the first asin in cpu_ts table with keepa_idx = 1."
   ],
   "metadata": {
    "collapsed": false
   }
  },
  {
   "cell_type": "code",
   "execution_count": 5,
   "outputs": [],
   "source": [
    "intel_df = cpu_df[cpu_df['brand'] == 'Intel']\n",
    "amd_df = cpu_df[cpu_df['brand'] == 'AMD']"
   ],
   "metadata": {
    "collapsed": false,
    "pycharm": {
     "name": "#%%\n"
    }
   }
  },
  {
   "cell_type": "markdown",
   "source": [
    "AMD:\n",
    " - Zen2: 2019.5.27\n",
    " - Zen3: 2020.10.7\n",
    "Intel:\n",
    " - 9th: 2019.4.23\n",
    " - 10th: 2020.4.30\n",
    " - 11th: 2021.3.15"
   ],
   "metadata": {
    "collapsed": false,
    "pycharm": {
     "name": "#%% md\n"
    }
   }
  },
  {
   "cell_type": "code",
   "execution_count": 31,
   "outputs": [
    {
     "name": "stdout",
     "output_type": "stream",
     "text": [
      "{'2020-03': 1.1119349113942896, '2020-04': 1.0, '2020-05': 1.435418341152801, '2020-06': 1.2434503099717333, '2020-07': 1.0978144312263278, '2020-08': 1.1726182101550713, '2020-09': 0.9909796704350854, '2020-10': 1.0, '2020-11': 0.9682949109372571, '2020-12': 0.9387640249838345, 'Gen10Down': False, 'Zen3Down': True}\n"
     ]
    },
    {
     "name": "stderr",
     "output_type": "stream",
     "text": [
      "<ipython-input-31-0096a9b2665b>:11: FutureWarning: Indexing a DataFrame with a datetimelike index using a single string to slice the rows, like `frame[string]`, is deprecated and will be removed in a future version. Use `frame.loc[string]` instead.\n",
      "  base_price = cpu_ts['2020-04']['value1'][0]\n",
      "<ipython-input-31-0096a9b2665b>:13: FutureWarning: Indexing a DataFrame with a datetimelike index using a single string to slice the rows, like `frame[string]`, is deprecated and will be removed in a future version. Use `frame.loc[string]` instead.\n",
      "  ts_data[date] = cpu_ts[date]['value1'][0] / base_price if date in cpu_ts.index else 1\n",
      "<ipython-input-31-0096a9b2665b>:17: FutureWarning: Indexing a DataFrame with a datetimelike index using a single string to slice the rows, like `frame[string]`, is deprecated and will be removed in a future version. Use `frame.loc[string]` instead.\n",
      "  base_price = cpu_ts['2020-10']['value1'][0]\n",
      "<ipython-input-31-0096a9b2665b>:19: FutureWarning: Indexing a DataFrame with a datetimelike index using a single string to slice the rows, like `frame[string]`, is deprecated and will be removed in a future version. Use `frame.loc[string]` instead.\n",
      "  ts_data[date] = cpu_ts[date]['value1'][0] / base_price if date in cpu_ts.index else 1\n"
     ]
    }
   ],
   "source": [
    "def search(asin):\n",
    "    cpu_ts = pd.read_sql_query(f'select keepa_minute, value1 from cpu_ts where asin = \"{asin}\" and keepa_idx=1', db)\n",
    "    cpu_ts['ts'] = pd.to_datetime((cpu_ts['keepa_minute'] + 21564000) * 60, unit='s')\n",
    "    cpu_ts.set_index('ts', inplace=True)\n",
    "    cpu_ts = cpu_ts.resample('1D').ffill()\n",
    "    cpu_ts = cpu_ts.resample('M').mean()\n",
    "    ts_data = {}\n",
    "    for d in ['2020-03', '2020-04', '2020-05', '2020-06', '2020-07', '2020-08', '2020-09', '2020-10', '2020-11', '2020-12']:\n",
    "        ts_data[d] = 1\n",
    "    if '2020-04' in cpu_ts.index:\n",
    "        base_price = cpu_ts['2020-04']['value1'][0]\n",
    "        for date in ['2020-03', '2020-04', '2020-05', '2020-06', '2020-07']:\n",
    "            ts_data[date] = cpu_ts[date]['value1'][0] / base_price if date in cpu_ts.index else 1\n",
    "            if ts_data[date] < 0:\n",
    "                ts_data[date] = 1\n",
    "    if '2020-10' in cpu_ts.index:\n",
    "        base_price = cpu_ts['2020-10']['value1'][0]\n",
    "        for date in ['2020-08', '2020-09', '2020-10', '2020-11', '2020-12']:\n",
    "            ts_data[date] = cpu_ts[date]['value1'][0] / base_price if date in cpu_ts.index else 1\n",
    "            if ts_data[date] < 0:\n",
    "                ts_data[date] = 1\n",
    "    ts_data['Gen10Down'] = (ts_data['2020-06'] + ts_data['2020-07']) < (ts_data['2020-03'] + ts_data['2020-04'])\n",
    "    ts_data['Zen3Down'] = (ts_data['2020-11'] + ts_data['2020-12']) < (ts_data['2020-08'] + ts_data['2020-09'])\n",
    "    return ts_data\n",
    "\n",
    "print(search(intel_df['asin'][1]))"
   ],
   "metadata": {
    "collapsed": false,
    "pycharm": {
     "name": "#%%\n"
    }
   }
  },
  {
   "cell_type": "code",
   "execution_count": 32,
   "outputs": [
    {
     "name": "stderr",
     "output_type": "stream",
     "text": [
      "<ipython-input-31-0096a9b2665b>:11: FutureWarning: Indexing a DataFrame with a datetimelike index using a single string to slice the rows, like `frame[string]`, is deprecated and will be removed in a future version. Use `frame.loc[string]` instead.\n",
      "  base_price = cpu_ts['2020-04']['value1'][0]\n",
      "<ipython-input-31-0096a9b2665b>:13: FutureWarning: Indexing a DataFrame with a datetimelike index using a single string to slice the rows, like `frame[string]`, is deprecated and will be removed in a future version. Use `frame.loc[string]` instead.\n",
      "  ts_data[date] = cpu_ts[date]['value1'][0] / base_price if date in cpu_ts.index else 1\n",
      "<ipython-input-31-0096a9b2665b>:17: FutureWarning: Indexing a DataFrame with a datetimelike index using a single string to slice the rows, like `frame[string]`, is deprecated and will be removed in a future version. Use `frame.loc[string]` instead.\n",
      "  base_price = cpu_ts['2020-10']['value1'][0]\n",
      "<ipython-input-31-0096a9b2665b>:19: FutureWarning: Indexing a DataFrame with a datetimelike index using a single string to slice the rows, like `frame[string]`, is deprecated and will be removed in a future version. Use `frame.loc[string]` instead.\n",
      "  ts_data[date] = cpu_ts[date]['value1'][0] / base_price if date in cpu_ts.index else 1\n"
     ]
    }
   ],
   "source": [
    "df_dict = []\n",
    "\n",
    "for idx, row in intel_df.iterrows():\n",
    "    ts = search(row['asin'])\n",
    "    ts['brand'] = 'intel'\n",
    "    ts['product'] = row['model_name']\n",
    "    df_dict.append(ts)\n",
    "\n",
    "for idx, row in amd_df.iterrows():\n",
    "    ts = search(row['asin'])\n",
    "    ts['brand'] = 'amd'\n",
    "    ts['product'] = row['model_name']\n",
    "    df_dict.append(ts)\n",
    "\n",
    "df = pd.DataFrame(df_dict)"
   ],
   "metadata": {
    "collapsed": false,
    "pycharm": {
     "name": "#%%\n"
    }
   }
  },
  {
   "cell_type": "code",
   "execution_count": 33,
   "outputs": [],
   "source": [
    "df.to_csv('ts.csv', index=False)"
   ],
   "metadata": {
    "collapsed": false,
    "pycharm": {
     "name": "#%%\n"
    }
   }
  },
  {
   "cell_type": "markdown",
   "source": [
    "Close database connection."
   ],
   "metadata": {
    "collapsed": false
   }
  },
  {
   "cell_type": "code",
   "execution_count": 34,
   "outputs": [],
   "source": [
    "db.close()"
   ],
   "metadata": {
    "collapsed": false,
    "pycharm": {
     "name": "#%%\n"
    }
   }
  }
 ],
 "metadata": {
  "kernelspec": {
   "display_name": "Python 3",
   "language": "python",
   "name": "python3"
  },
  "language_info": {
   "codemirror_mode": {
    "name": "ipython",
    "version": 2
   },
   "file_extension": ".py",
   "mimetype": "text/x-python",
   "name": "python",
   "nbconvert_exporter": "python",
   "pygments_lexer": "ipython2",
   "version": "2.7.6"
  }
 },
 "nbformat": 4,
 "nbformat_minor": 0
}